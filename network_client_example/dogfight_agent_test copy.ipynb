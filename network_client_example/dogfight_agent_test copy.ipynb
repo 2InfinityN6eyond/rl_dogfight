{
 "cells": [
  {
   "cell_type": "code",
   "execution_count": 1,
   "metadata": {},
   "outputs": [],
   "source": [
    "from __future__ import annotations\n",
    "\n",
    "import random\n",
    "import tqdm\n",
    "\n",
    "import matplotlib.pyplot as plt\n",
    "import numpy as np\n",
    "import pandas as pd\n",
    "import seaborn as sns\n",
    "import torch\n",
    "import torch.nn as nn\n",
    "from torch.distributions.normal import Normal\n",
    "\n",
    "import gymnasium as gym\n",
    "#from dogfight_env.envs import DogfightEnv\n",
    "#import dogfight_env\n",
    "from dogfight_env.envs import DogfightEnv\n",
    "\n",
    "\n",
    "plt.rcParams[\"figure.figsize\"] = (10, 5)"
   ]
  },
  {
   "cell_type": "code",
   "execution_count": 2,
   "metadata": {},
   "outputs": [],
   "source": [
    "class Policy_Network(nn.Module):\n",
    "    \"\"\"Parametrized Policy Network.\"\"\"\n",
    "\n",
    "    def __init__(self, obs_space_dims: int, action_space_dims: int):\n",
    "        \"\"\"Initializes a neural network that estimates the mean and standard deviation\n",
    "         of a normal distribution from which an action is sampled from.\n",
    "\n",
    "        Args:\n",
    "            obs_space_dims: Dimension of the observation space\n",
    "            action_space_dims: Dimension of the action space\n",
    "        \"\"\"\n",
    "        super().__init__()\n",
    "\n",
    "        shared_net_space_dim_list = [\n",
    "            obs_space_dims, 64, 64, 64, 64\n",
    "        ]\n",
    "        self.shared_net = nn.Sequential(*[\n",
    "            nn.Sequential(\n",
    "                nn.Linear(shared_net_space_dim_list[i], shared_net_space_dim_list[i+1]),\n",
    "                nn.Tanh()\n",
    "            )\n",
    "            for i in range(len(shared_net_space_dim_list)-1)\n",
    "        ])\n",
    "\n",
    "        policy_net_space_dim_list = [\n",
    "            shared_net_space_dim_list[-1], 64, 64, 64, action_space_dims\n",
    "        ]\n",
    "        self.policy_mean_net = nn.Sequential(*[\n",
    "            nn.Sequential(\n",
    "                nn.Linear(policy_net_space_dim_list[i], policy_net_space_dim_list[i+1]),\n",
    "                nn.Tanh()\n",
    "            )\n",
    "            for i in range(len(policy_net_space_dim_list)-1)\n",
    "        ])\n",
    "\n",
    "        policy_stddev_net_space_dim_list = [\n",
    "            shared_net_space_dim_list[-1], 64, 64, 64, action_space_dims\n",
    "        ]\n",
    "        self.policy_stddev_net = nn.Sequential(*[\n",
    "            nn.Sequential(\n",
    "                nn.Linear(policy_stddev_net_space_dim_list[i], policy_stddev_net_space_dim_list[i+1]),\n",
    "                nn.Tanh()\n",
    "            )\n",
    "            for i in range(len(policy_stddev_net_space_dim_list)-1)\n",
    "        ])\n",
    "\n",
    "    def forward(self, x: torch.Tensor) -> tuple[torch.Tensor, torch.Tensor]:\n",
    "        \"\"\"Conditioned on the observation, returns the mean and standard deviation\n",
    "         of a normal distribution from which an action is sampled from.\n",
    "\n",
    "        Args:\n",
    "            x: Observation from the environment\n",
    "\n",
    "        Returns:\n",
    "            action_means: predicted mean of the normal distribution\n",
    "            action_stddevs: predicted standard deviation of the normal distribution\n",
    "        \"\"\"\n",
    "        shared_features = self.shared_net(x.float())\n",
    "\n",
    "        action_means = self.policy_mean_net(shared_features) * 1.5\n",
    "        action_stddevs = torch.log(\n",
    "            1 + torch.exp(self.policy_stddev_net(shared_features))\n",
    "        )\n",
    "\n",
    "        return action_means, action_stddevs"
   ]
  },
  {
   "cell_type": "code",
   "execution_count": 3,
   "metadata": {},
   "outputs": [],
   "source": [
    "class REINFORCE:\n",
    "    \"\"\"REINFORCE algorithm.\"\"\"\n",
    "\n",
    "    def __init__(self, obs_space_dims: int, action_space_dims: int):\n",
    "        \"\"\"Initializes an agent that learns a policy via REINFORCE algorithm [1]\n",
    "        to solve the task at hand (Inverted Pendulum v4).\n",
    "\n",
    "        Args:\n",
    "            obs_space_dims: Dimension of the observation space\n",
    "            action_space_dims: Dimension of the action space\n",
    "        \"\"\"\n",
    "\n",
    "        # Hyperparameters\n",
    "        self.learning_rate = 1e-4  # Learning rate for policy optimization\n",
    "        self.gamma = 0.99  # Discount factor\n",
    "        self.eps = 1e-6  # small number for mathematical stability\n",
    "\n",
    "        self.probs = []  # Stores probability values of the sampled action\n",
    "        self.rewards = []  # Stores the corresponding rewards\n",
    "\n",
    "        self.net = Policy_Network(obs_space_dims, action_space_dims)\n",
    "        self.optimizer = torch.optim.AdamW(self.net.parameters(), lr=self.learning_rate)\n",
    "\n",
    "    def sample_action(self, state: np.ndarray) -> float:\n",
    "        \"\"\"Returns an action, conditioned on the policy and observation.\n",
    "\n",
    "        Args:\n",
    "            state: Observation from the environment\n",
    "\n",
    "        Returns:\n",
    "            action: Action to be performed\n",
    "        \"\"\"\n",
    "        state = torch.tensor(np.array([state]))\n",
    "        action_means, action_stddevs = self.net(state)\n",
    "\n",
    "        # create a normal distribution from the predicted\n",
    "        #   mean and standard deviation and sample an action\n",
    "        distrib = Normal(action_means[0] + self.eps, action_stddevs[0] + self.eps)\n",
    "        action = distrib.sample()\n",
    "        prob = distrib.log_prob(action)\n",
    "\n",
    "        action = action.numpy()\n",
    "        action = np.clip(action, -1.5, 1.5)\n",
    "        action[-1] = np.clip(action[-1], -1, 1)\n",
    "\n",
    "        self.probs.append(prob)\n",
    "\n",
    "        return action\n",
    "\n",
    "    def update(self):\n",
    "        \"\"\"Updates the policy network's weights.\"\"\"\n",
    "        running_g = 0\n",
    "        gs = []\n",
    "\n",
    "        # Discounted return (backwards) - [::-1] will return an array in reverse\n",
    "        for R in self.rewards[::-1]:\n",
    "            running_g = R + self.gamma * running_g\n",
    "            gs.insert(0, running_g)\n",
    "\n",
    "        deltas = torch.tensor(gs)\n",
    "\n",
    "        loss = 0\n",
    "        # minimize -1 * prob * reward obtained\n",
    "        for log_prob, delta in zip(self.probs, deltas):\n",
    "            loss += log_prob.mean() * delta * (-1)\n",
    "\n",
    "        # Update the policy network\n",
    "        self.optimizer.zero_grad()\n",
    "        loss.backward()\n",
    "        self.optimizer.step()\n",
    "\n",
    "        # Empty / zero out all episode-centric/related variables\n",
    "        self.probs = []\n",
    "        self.rewards = []"
   ]
  },
  {
   "cell_type": "code",
   "execution_count": 4,
   "metadata": {},
   "outputs": [],
   "source": [
    "\n",
    "obs_space_dims = 32 #env.observation_space.shape[0]\n",
    "action_space_dims = 5 #env.action_space.shape[0]\n",
    "agent = REINFORCE(obs_space_dims, action_space_dims)\n",
    "\n",
    "SERVER_IP = \"192.168.219.104\"\n",
    "SERVER_PORT = 50889\n",
    "\n",
    "# Create and wrap the environment\n",
    "\n",
    "env = gym.make(\n",
    "    \"dogfight_env/DogfightEnv-v0\",\n",
    "    server_ip   = SERVER_IP,\n",
    "    server_port = SERVER_PORT,\n",
    "    enable_builtin_autopilot = True,\n",
    "    render_mode = \"rgb_array\"\n",
    ")\n",
    "wrapped_env = gym.wrappers.RecordEpisodeStatistics(env, 50)  # Records episode-reward\n"
   ]
  },
  {
   "cell_type": "code",
   "execution_count": 5,
   "metadata": {},
   "outputs": [
    {
     "name": "stderr",
     "output_type": "stream",
     "text": [
      "  0%|          | 0/5000 [00:00<?, ?it/s]c:\\Users\\hjp\\anaconda3\\envs\\rl_test\\lib\\site-packages\\gymnasium\\utils\\passive_env_checker.py:137: UserWarning: \u001b[33mWARN: The obs returned by the `reset()` method was expecting a numpy array, actual type: <class 'numpy.float64'>\u001b[0m\n",
      "  logger.warn(\n",
      "c:\\Users\\hjp\\anaconda3\\envs\\rl_test\\lib\\site-packages\\gymnasium\\spaces\\box.py:227: UserWarning: \u001b[33mWARN: Casting input x to numpy array.\u001b[0m\n",
      "  logger.warn(\"Casting input x to numpy array.\")\n",
      "c:\\Users\\hjp\\anaconda3\\envs\\rl_test\\lib\\site-packages\\gymnasium\\utils\\passive_env_checker.py:165: UserWarning: \u001b[33mWARN: The obs returned by the `reset()` method is not within the observation space.\u001b[0m\n",
      "  logger.warn(f\"{pre} is not within the observation space.\")\n",
      "c:\\Users\\hjp\\anaconda3\\envs\\rl_test\\lib\\site-packages\\gymnasium\\utils\\passive_env_checker.py:137: UserWarning: \u001b[33mWARN: The obs returned by the `reset()` method was expecting a numpy array, actual type: <class 'int'>\u001b[0m\n",
      "  logger.warn(\n",
      "c:\\Users\\hjp\\anaconda3\\envs\\rl_test\\lib\\site-packages\\gymnasium\\utils\\passive_env_checker.py:137: UserWarning: \u001b[33mWARN: The obs returned by the `reset()` method was expecting a numpy array, actual type: <class 'float'>\u001b[0m\n",
      "  logger.warn(\n",
      "c:\\Users\\hjp\\anaconda3\\envs\\rl_test\\lib\\site-packages\\gymnasium\\utils\\passive_env_checker.py:233: DeprecationWarning: `np.bool8` is a deprecated alias for `np.bool_`.  (Deprecated NumPy 1.24)\n",
      "  if not isinstance(terminated, (bool, np.bool8)):\n",
      "c:\\Users\\hjp\\anaconda3\\envs\\rl_test\\lib\\site-packages\\gymnasium\\utils\\passive_env_checker.py:137: UserWarning: \u001b[33mWARN: The obs returned by the `step()` method was expecting a numpy array, actual type: <class 'numpy.float64'>\u001b[0m\n",
      "  logger.warn(\n",
      "c:\\Users\\hjp\\anaconda3\\envs\\rl_test\\lib\\site-packages\\gymnasium\\utils\\passive_env_checker.py:165: UserWarning: \u001b[33mWARN: The obs returned by the `step()` method is not within the observation space.\u001b[0m\n",
      "  logger.warn(f\"{pre} is not within the observation space.\")\n",
      "c:\\Users\\hjp\\anaconda3\\envs\\rl_test\\lib\\site-packages\\gymnasium\\utils\\passive_env_checker.py:137: UserWarning: \u001b[33mWARN: The obs returned by the `step()` method was expecting a numpy array, actual type: <class 'int'>\u001b[0m\n",
      "  logger.warn(\n",
      "c:\\Users\\hjp\\anaconda3\\envs\\rl_test\\lib\\site-packages\\gymnasium\\utils\\passive_env_checker.py:137: UserWarning: \u001b[33mWARN: The obs returned by the `step()` method was expecting a numpy array, actual type: <class 'float'>\u001b[0m\n",
      "  logger.warn(\n",
      "E: 0, R: -101278.28:   0%|          | 1/5000 [00:06<7:06:03,  5.11s/it]"
     ]
    },
    {
     "name": "stdout",
     "output_type": "stream",
     "text": [
      "Episode: 0 Reword: -101278\n"
     ]
    },
    {
     "name": "stderr",
     "output_type": "stream",
     "text": [
      "E: 1000, R: -97228.92:  20%|██        | 1001/5000 [1:36:07<3:04:16,  2.76s/it]"
     ]
    },
    {
     "name": "stdout",
     "output_type": "stream",
     "text": [
      "Episode: 1000 Reword: -97228\n"
     ]
    },
    {
     "name": "stderr",
     "output_type": "stream",
     "text": [
      "E: 2000, R: -101259.22:  40%|████      | 2001/5000 [3:30:55<5:28:10,  6.57s/it]"
     ]
    },
    {
     "name": "stdout",
     "output_type": "stream",
     "text": [
      "Episode: 2000 Reword: -101259\n"
     ]
    },
    {
     "name": "stderr",
     "output_type": "stream",
     "text": [
      "E: 3000, R: -101248.41:  60%|██████    | 3001/5000 [5:27:53<3:16:29,  5.90s/it]"
     ]
    },
    {
     "name": "stdout",
     "output_type": "stream",
     "text": [
      "Episode: 3000 Reword: -101248\n"
     ]
    },
    {
     "name": "stderr",
     "output_type": "stream",
     "text": [
      "E: 4000, R: -101184.81:  80%|████████  | 4001/5000 [7:03:23<1:28:01,  5.29s/it]"
     ]
    },
    {
     "name": "stdout",
     "output_type": "stream",
     "text": [
      "Episode: 4000 Reword: -101184\n"
     ]
    },
    {
     "name": "stderr",
     "output_type": "stream",
     "text": [
      "E: 4985, R: -101306.03: 100%|█████████▉| 4986/5000 [8:51:42<01:16,  5.44s/it]  "
     ]
    }
   ],
   "source": [
    "\n",
    "total_num_episodes = int(5e3)  # Total number of episodes\n",
    "# Observation-space of InvertedPendulum-v4 (4)\n",
    "rewards_over_seeds = []\n",
    "for seed in [1]:  # Fibonacci seeds\n",
    "    # set seed\n",
    "    torch.manual_seed(seed)\n",
    "    random.seed(seed)\n",
    "    np.random.seed(seed)\n",
    "\n",
    "    # Reinitialize agent every seed\n",
    "    \n",
    "    reward_over_episodes = []\n",
    "\n",
    "    with tqdm.tqdm(total=total_num_episodes) as pbar:\n",
    "        for episode in range(total_num_episodes):\n",
    "            # gymnasium v26 requires users to set seed while resetting the environment\n",
    "            obs, info = wrapped_env.reset(seed=seed)\n",
    "\n",
    "            done = False\n",
    "            while not done:\n",
    "                my_observation = info[env.plane_names[0]]\n",
    "                enemy_observation = info[env.plane_names[1]]\n",
    "\n",
    "                pos = my_observation[\"pos\"]\n",
    "                rot = my_observation[\"rot\"]\n",
    "                v_move = my_observation[\"move_vector\"]\n",
    "                aX = my_observation[\"aX\"]\n",
    "                aZ = my_observation[\"aZ\"]\n",
    "                health_level = my_observation[\"health_level\"]\n",
    "\n",
    "                t_pos = enemy_observation[\"pos\"]\n",
    "                t_rot = enemy_observation[\"rot\"]\n",
    "                t_v_move = enemy_observation[\"move_vector\"]\n",
    "                t_aX = enemy_observation[\"aX\"]\n",
    "                t_aZ = enemy_observation[\"aZ\"]\n",
    "                t_health_level = enemy_observation[\"health_level\"]\n",
    "\n",
    "                processed_observation = np.concatenate([\n",
    "                    pos,     rot,   v_move,   aX,   aZ,   [health_level],\n",
    "                    t_pos, t_rot, t_v_move, t_aX, t_aZ, [t_health_level]\n",
    "                ], dtype=np.float32)\n",
    "\n",
    "                action = agent.sample_action(processed_observation)\n",
    "                #control_action = to_control_action(action)\n",
    "\n",
    "                roll, pitch, yaw, thrust, fire_machine_gun = action.astype(float)\n",
    "                fire_machine_gun = True if fire_machine_gun > 0.5 else False\n",
    "                control_action = {}\n",
    "                control_action[\"roll\"]  = roll\n",
    "                control_action[\"pitch\"] = pitch\n",
    "                control_action[\"yaw\"]   = yaw\n",
    "                control_action[\"thrust\"] = thrust\n",
    "                control_action[\"fire_machine_gun\"] = fire_machine_gun\n",
    "        \n",
    "                processed_control_action = {\n",
    "                    env.plane_names[0] : control_action\n",
    "                }\n",
    "                # Step return type - `tuple[ObsType, SupportsFloat, bool, bool, dict[str, Any]]`\n",
    "                # These represent the next observation, the reward from the step,\n",
    "                # if the episode is terminated, if the episode is truncated and\n",
    "                # additional info from the step\n",
    "                obs, reward, terminated, truncated, info = wrapped_env.step(\n",
    "                    processed_control_action\n",
    "                )\n",
    "\n",
    "                #my_reward = reward[0]\n",
    "                \n",
    "                agent.rewards.append(reward)\n",
    "\n",
    "                # End the episode wzhen either truncated or terminated is true\n",
    "                #  - truncated: The episode duration reaches max number of timesteps\n",
    "                #  - terminated: Any of the state space values is no longer finite.\n",
    "                done = terminated or truncated\n",
    "\n",
    "            pbar.update(1)\n",
    "\n",
    "            reward_over_episodes.append(wrapped_env.return_queue[-1])\n",
    "            agent.update()\n",
    "\n",
    "            pbar.set_description(\n",
    "                f\"E: {episode}, R: {np.mean(wrapped_env.return_queue):.2f}\"\n",
    "            )\n",
    "            if episode % 1000 == 0:\n",
    "                avg_reward = int(np.mean(wrapped_env.return_queue))\n",
    "                print(\"Episode:\", episode, \"Reword:\", avg_reward)\n",
    "\n",
    "    rewards_over_seeds.append(reward_over_episodes)"
   ]
  },
  {
   "cell_type": "code",
   "execution_count": 8,
   "metadata": {},
   "outputs": [
    {
     "data": {
      "image/png": "[encoded data removed]",
      "text/plain": [
       "<Figure size 1000x500 with 1 Axes>"
      ]
     },
     "metadata": {},
     "output_type": "display_data"
    }
   ],
   "source": [
    "plt.plot(reward_over_episodes)\n",
    "plt.show()"
   ]
  },
  {
   "cell_type": "code",
   "execution_count": 9,
   "metadata": {},
   "outputs": [],
   "source": [
    "from copy import deepcopy"
   ]
  },
  {
   "cell_type": "code",
   "execution_count": 10,
   "metadata": {},
   "outputs": [],
   "source": [
    "reward_over_episodes_backup = deepcopy(reward_over_episodes)"
   ]
  },
  {
   "cell_type": "code",
   "execution_count": null,
   "metadata": {},
   "outputs": [],
   "source": []
  }
 ],
 "metadata": {
  "kernelspec": {
   "display_name": "base",
   "language": "python",
   "name": "python3"
  },
  "language_info": {
   "codemirror_mode": {
    "name": "ipython",
    "version": 3
   },
   "file_extension": ".py",
   "mimetype": "text/x-python",
   "name": "python",
   "nbconvert_exporter": "python",
   "pygments_lexer": "ipython3",
   "version": "3.8.15"
  }
 },
 "nbformat": 4,
 "nbformat_minor": 2
}
