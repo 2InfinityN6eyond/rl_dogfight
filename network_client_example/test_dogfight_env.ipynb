{
 "cells": [
  {
   "cell_type": "code",
   "execution_count": 4,
   "metadata": {},
   "outputs": [],
   "source": [
    "import gymnasium as gym\n",
    "\n",
    "from dogfight_env.envs import DogfightEnv\n",
    "\n",
    "import pygame\n",
    "import time\n",
    "import sys\n",
    "import numpy as np\n",
    "\n",
    "from xbox_cockpit import XboxCockpit\n",
    "\n",
    "SERVER_IP = \"192.168.219.108\"\n",
    "SERVER_PORT = 50888"
   ]
  },
  {
   "cell_type": "code",
   "execution_count": 5,
   "metadata": {},
   "outputs": [],
   "source": [
    "env = gym.make(\n",
    "    \"dogfight_env/DogfightEnv-v0\",\n",
    "    server_ip = SERVER_IP,\n",
    "    server_port = SERVER_PORT,\n",
    "    enable_builtin_autopilot = True\n",
    ")"
   ]
  },
  {
   "cell_type": "code",
   "execution_count": 7,
   "metadata": {},
   "outputs": [
    {
     "name": "stdout",
     "output_type": "stream",
     "text": [
      "angle_to_enemy\n",
      "dist_from_origin\n",
      "health_level\n",
      "hit_count\n",
      "loose\n",
      "num_bullet\n",
      "position\n",
      "rotation\n",
      "velocity\n",
      "velocity_norm\n",
      "won\n"
     ]
    }
   ],
   "source": [
    "for obss in env.observation_space.values() :\n",
    "    for key in obss.keys() :\n",
    "        print(key)\n",
    "    break"
   ]
  },
  {
   "cell_type": "code",
   "execution_count": 8,
   "metadata": {},
   "outputs": [
    {
     "name": "stdout",
     "output_type": "stream",
     "text": [
      "fire_machine_gun\n",
      "pitch\n",
      "roll\n",
      "thrust\n",
      "yaw\n",
      "fire_machine_gun\n",
      "pitch\n",
      "roll\n",
      "thrust\n",
      "yaw\n"
     ]
    }
   ],
   "source": [
    "for obss in env.action_space.values() :\n",
    "    for key in obss.keys() :\n",
    "        print(key)"
   ]
  },
  {
   "cell_type": "code",
   "execution_count": null,
   "metadata": {},
   "outputs": [],
   "source": []
  }
 ],
 "metadata": {
  "kernelspec": {
   "display_name": "Python 3.9.12 ('base')",
   "language": "python",
   "name": "python3"
  },
  "language_info": {
   "codemirror_mode": {
    "name": "ipython",
    "version": 3
   },
   "file_extension": ".py",
   "mimetype": "text/x-python",
   "name": "python",
   "nbconvert_exporter": "python",
   "pygments_lexer": "ipython3",
   "version": "3.9.12"
  },
  "orig_nbformat": 4,
  "vscode": {
   "interpreter": {
    "hash": "10eb691bccf4257ab2fd488ca240ccf2dbe4f63e86b02aaf0035184014e5e0fd"
   }
  }
 },
 "nbformat": 4,
 "nbformat_minor": 2
}
